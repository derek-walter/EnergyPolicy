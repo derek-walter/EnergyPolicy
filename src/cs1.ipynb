{
 "cells": [
  {
   "cell_type": "code",
   "execution_count": 460,
   "metadata": {},
   "outputs": [],
   "source": [
    "# Imports\n",
    "import pandas as pd\n",
    "import numpy as np\n",
    "import matplotlib.pyplot as plt\n",
    "from datetime import datetime"
   ]
  },
  {
   "cell_type": "markdown",
   "metadata": {},
   "source": [
    "#### Some Notes on Pymongo\n",
    "General Code:\n",
    "> from pymongo import MongoClient('localhost', port)  \n",
    "> client = MongoClient() # Init on default host and port  \n",
    "\n",
    "Ideas:  \n",
    "- read JSON or txt into database (may need list style)\n",
    "- Cursor over entries\n",
    "- I dont think rewind is necessary if loop through db.find()\n",
    "\n",
    "\n",
    "'''"
   ]
  },
  {
   "cell_type": "code",
   "execution_count": null,
   "metadata": {},
   "outputs": [],
   "source": []
  },
  {
   "cell_type": "code",
   "execution_count": 272,
   "metadata": {},
   "outputs": [],
   "source": [
    "# Export is some file info, authority has program ID's (drop NAN enacted)\n",
    "# Implementing Sector has ID for Authority Level (state, county)\n",
    "# Parameter Set: Parameter Set Id (Links to parameter), \n",
    "pgm = pd.read_csv('Data/dsir/program.csv')\n",
    "state = pd.read_csv('Data/dsir/state.csv')\n",
    "pgm_tech = pd.read_csv('Data/dsir/program_technology.csv')\n",
    "tech = pd.read_csv('Data/dsir/technology.csv')\n",
    "tech_cat = pd.read_csv('Data/dsir/technology_category.csv')\n",
    "ener_cat = pd.read_csv('Data/dsir/energy_category.csv')\n",
    "pgm_util = pd.read_csv('Data/dsir/program_utility.csv')\n",
    "util = pd.read_csv('Data/dsir/utility.csv')\n",
    "pgm_cat = pd.read_csv('Data/dsir/program_category.csv')\n",
    "pgm_type = pd.read_csv('Data/dsir/program_type.csv')\n",
    "pgm_county = pd.read_csv('Data/dsir/program_county.csv')\n",
    "county = pd.read_csv('Data/dsir/county.csv')\n",
    "sector = pd.read_csv('Data/dsir/sector.csv')"
   ]
  },
  {
   "cell_type": "code",
   "execution_count": null,
   "metadata": {},
   "outputs": [],
   "source": [
    "# Program Selection\n",
    "    # Program: Is_entire_state == 1\n",
    "    # Program: Additional Technologies == NaN\n",
    "# Merging\n",
    "    # Merge pgm_tech on pgm['id'] = pgm_tech['program_id'], get technology_id as subcategory\n",
    "# Merge Sector Id\n",
    "# Merge Program Category ID: Incentive, Regulatory\n",
    "# Merge Program Type: Rebate, Tax Credit\n",
    "# Include Tech.db Active == 0"
   ]
  },
  {
   "cell_type": "markdown",
   "metadata": {},
   "source": [
    "Main Ideas  \n",
    "- What state favors what programs? By Tech_ID"
   ]
  },
  {
   "cell_type": "markdown",
   "metadata": {},
   "source": [
    "files = [\n",
    "#'authority.csv',\n",
    "#'program_detail.csv',\n",
    "#'city.csv',\n",
    "#'program_detail_template.csv',\n",
    "#'contact.csv',\n",
    "#'program_sector.csv',\n",
    "#'county.csv',\n",
    "'''''''program_technology.csv', \n",
    "'''''''energy_category.csv', \n",
    "'program_type.csv', # rebate, tax credit\n",
    "#'export.csv',\n",
    "'program_utility.csv',\n",
    "#'implementing_sector.csv',\n",
    "#'program_zipcode.csv',\n",
    "#'parameter.csv', dont do\n",
    "'sector.csv',\n",
    "#'parameter_set.csv', dont do\n",
    "'''''''state.csv',\n",
    "#'parameter_set_sector.csv', dont do\n",
    "'subscription_memo.csv',\n",
    "#'parameter_set_technology.csv', dont do\n",
    "'''''''technology.csv',\n",
    "'program.csv',\n",
    "'''''''technology_category.csv',\n",
    "'program_category.csv',\n",
    "'utility.csv',\n",
    "'program_city.csv',         \n",
    "'utility_zipcode.csv',\n",
    "#'program_contact.csv',\n",
    "'zipcode.csv',\n",
    "'program_county.csv'\n",
    "]"
   ]
  },
  {
   "cell_type": "code",
   "execution_count": null,
   "metadata": {},
   "outputs": [],
   "source": []
  },
  {
   "cell_type": "code",
   "execution_count": 64,
   "metadata": {},
   "outputs": [
    {
     "data": {
      "text/plain": [
       "['id',\n",
       " 'state_id',\n",
       " 'is_entire_state',\n",
       " 'implementing_sector_id',\n",
       " 'program_category_id',\n",
       " 'program_type_id',\n",
       " 'created_by_user_id',\n",
       " 'code',\n",
       " 'name',\n",
       " 'updated_ts',\n",
       " 'created_ts',\n",
       " 'published',\n",
       " 'websiteurl',\n",
       " 'administrator',\n",
       " 'fundingsource',\n",
       " 'budget',\n",
       " 'start_date',\n",
       " 'start_date_text',\n",
       " 'end_date',\n",
       " 'end_date_text',\n",
       " 'summary',\n",
       " 'additional_technologies',\n",
       " 'fromSir']"
      ]
     },
     "execution_count": 64,
     "metadata": {},
     "output_type": "execute_result"
    }
   ],
   "source": [
    "list(pgm.columns)"
   ]
  },
  {
   "cell_type": "code",
   "execution_count": 124,
   "metadata": {},
   "outputs": [
    {
     "data": {
      "image/png": "[encoded data removed]",
      "text/plain": [
       "<Figure size 432x288 with 1 Axes>"
      ]
     },
     "metadata": {
      "needs_background": "light"
     },
     "output_type": "display_data"
    }
   ],
   "source": [
    "ax1 = pgm['published'].hist()\n",
    "ax1.set_xlabel('Active Currently [0,1]')\n",
    "ax1.set_title('Country Wide: Active Programs Proportions')\n",
    "plt.show()\n",
    "fig1 = ax1.get_figure()"
   ]
  },
  {
   "cell_type": "markdown",
   "metadata": {},
   "source": [
    "Looking at Published* stats more closely..."
   ]
  },
  {
   "cell_type": "code",
   "execution_count": 176,
   "metadata": {},
   "outputs": [
    {
     "data": {
      "image/png": "[encoded data removed]",
      "text/plain": [
       "<Figure size 1008x576 with 1 Axes>"
      ]
     },
     "metadata": {
      "needs_background": "light"
     },
     "output_type": "display_data"
    }
   ],
   "source": [
    "pgm_state_id = pgm.groupby(by = ['state_id'])\n",
    "ax2 = pgm_state_id['published'].sum().sort_values(ascending=False).plot.bar(figsize = (14, 8))\n",
    "ax2.set_xlabel('State ID')\n",
    "ax2.set_title('Current Programs by State')\n",
    "ax2.plot([pgm_state_id['published'].sum().mean()]*len(pgm_state_id['published']));\n",
    "fig2 = ax2.get_figure()"
   ]
  },
  {
   "cell_type": "code",
   "execution_count": 191,
   "metadata": {},
   "outputs": [
    {
     "data": {
      "image/png": "[encoded data removed]",
      "text/plain": [
       "<Figure size 1008x576 with 1 Axes>"
      ]
     },
     "metadata": {
      "needs_background": "light"
     },
     "output_type": "display_data"
    }
   ],
   "source": [
    "np.array(pgm_state_id['published'].transform(lambda x: 1-x))\n",
    "fig3, ax3 = plt.subplots()\n",
    "ax3.bar()\n",
    "ax3.set_title('Current Programs by State')\n",
    "fig3 = ax3.get_figure()"
   ]
  },
  {
   "cell_type": "code",
   "execution_count": null,
   "metadata": {},
   "outputs": [],
   "source": [
    "# UPDATE FIGURES\n",
    "fig1.savefig('pgm_published_hist.png')\n",
    "fig2.savefig('pgm_by_state.png')"
   ]
  },
  {
   "cell_type": "code",
   "execution_count": null,
   "metadata": {},
   "outputs": [],
   "source": []
  },
  {
   "cell_type": "code",
   "execution_count": 320,
   "metadata": {},
   "outputs": [],
   "source": [
    "# Tech\n",
    "outer = tech_cat.merge(ener_cat.set_index('id'), left_on = 'energy_category_id', right_on = 'id', suffixes = ('_tech','_energy'))\n",
    "outer.drop(columns = 'energy_category_id', inplace = True)\n",
    "inner = tech.merge(outer.set_index('id'), left_on = 'technology_category_id', right_on = 'id')\n",
    "inner.drop(columns = 'technology_category_id', inplace = True)\n",
    "outer = pgm_tech.merge(inner.set_index('id'), left_on = 'technology_id', right_on = 'id')\n",
    "outer['name_subtech'] = outer['name']\n",
    "outer.drop(columns = 'name', inplace = True)\n",
    "df1 = outer.set_index('program_id').join(pgm.set_index('id'), on = 'program_id')\n",
    "df1.reset_index();"
   ]
  },
  {
   "cell_type": "code",
   "execution_count": 321,
   "metadata": {},
   "outputs": [
    {
     "data": {
      "text/plain": [
       "(34679, 27)"
      ]
     },
     "execution_count": 321,
     "metadata": {},
     "output_type": "execute_result"
    }
   ],
   "source": [
    "df1.shape"
   ]
  },
  {
   "cell_type": "code",
   "execution_count": 322,
   "metadata": {},
   "outputs": [],
   "source": [
    "# State\n",
    "state.drop(columns = 'name', inplace = True)\n",
    "df2 = df1.merge(state.set_index('id'), left_on = 'state_id', right_on = 'id')\n",
    "df2['state'] = df2['abbreviation']\n",
    "df2.drop(columns = ['state_id', 'abbreviation'], inplace = True)"
   ]
  },
  {
   "cell_type": "code",
   "execution_count": 323,
   "metadata": {},
   "outputs": [
    {
     "data": {
      "text/plain": [
       "(34679, 28)"
      ]
     },
     "execution_count": 323,
     "metadata": {},
     "output_type": "execute_result"
    }
   ],
   "source": [
    "df2.shape"
   ]
  },
  {
   "cell_type": "code",
   "execution_count": null,
   "metadata": {},
   "outputs": [],
   "source": []
  },
  {
   "cell_type": "code",
   "execution_count": 341,
   "metadata": {},
   "outputs": [],
   "source": [
    "# Program Type/Category\n",
    "outer = df2.merge(pgm_type.set_index('id').drop(columns = 'program_category_id'), \n",
    "                  left_on = 'program_type_id', right_on = 'id', suffixes = ('_program','_type'))\n",
    "inner = outer.merge(pgm_cat.set_index('id'), left_on = 'program_category_id',\n",
    "                    right_on = 'id', suffixes = ('_program','_category'))\n",
    "inner['name_category'] = inner['name']\n",
    "df3 = inner.drop(columns = 'name')\n",
    "# Ignore County\n",
    "#outer = county.set_index('id').merge(pgm_county, left_on = 'id', right_on = 'county_id').drop(columns = ['state_id','county_id'])\n",
    "#df3 = inner.merge(outer, left_on = 'id', right_on = 'program_id', suffixes = ('_program','_county'))\n",
    "#df3['name_county'] = df3['name']\n",
    "#df3.drop(columns = 'name', inplace = True)"
   ]
  },
  {
   "cell_type": "code",
   "execution_count": 345,
   "metadata": {},
   "outputs": [
    {
     "data": {
      "text/plain": [
       "(34679, 30)"
      ]
     },
     "execution_count": 345,
     "metadata": {},
     "output_type": "execute_result"
    }
   ],
   "source": [
    "df3.shape"
   ]
  },
  {
   "cell_type": "code",
   "execution_count": 346,
   "metadata": {},
   "outputs": [],
   "source": [
    "to_drop = ['technology_id',\n",
    " #'active',\n",
    " #'name_tech',\n",
    " #'name_energy',\n",
    " #'name_subtech',\n",
    " #'is_entire_state',\n",
    " #'implementing_sector_id',\n",
    " 'program_category_id',\n",
    " 'program_type_id',\n",
    " 'created_by_user_id',\n",
    " 'code',\n",
    " #'name_program',\n",
    " 'updated_ts',\n",
    " 'created_ts',\n",
    " #'published',\n",
    " 'websiteurl',\n",
    " 'administrator',\n",
    " 'fundingsource',\n",
    " #'budget',\n",
    " #'start_date',\n",
    " #'start_date_text',\n",
    " #'end_date',\n",
    " #'end_date_text',\n",
    " 'summary',\n",
    " 'additional_technologies',\n",
    " 'fromSir',\n",
    " #'is_territory',\n",
    " #'state',\n",
    " #'name_type',\n",
    " #'name_category'\n",
    "          ]"
   ]
  },
  {
   "cell_type": "code",
   "execution_count": 426,
   "metadata": {},
   "outputs": [],
   "source": [
    "df4 = df3.drop(columns = to_drop)#, inplace = True)\n",
    "sec = sector[sector['is_selectable'] == 1][['id','name']]\n",
    "sec = sec.set_index('id').reset_index()\n",
    "df5 = df4.merge(sec, left_on = 'implementing_sector_id', right_on = 'id')\n",
    "df5['name_sector'] = df5['name']\n",
    "df5.drop(columns = ['start_date_text','end_date_text', 'name'], inplace = True)"
   ]
  },
  {
   "cell_type": "code",
   "execution_count": 427,
   "metadata": {},
   "outputs": [
    {
     "data": {
      "text/plain": [
       "(33139, 17)"
      ]
     },
     "execution_count": 427,
     "metadata": {},
     "output_type": "execute_result"
    }
   ],
   "source": [
    "df5.shape"
   ]
  },
  {
   "cell_type": "code",
   "execution_count": null,
   "metadata": {},
   "outputs": [],
   "source": []
  },
  {
   "cell_type": "code",
   "execution_count": 503,
   "metadata": {},
   "outputs": [],
   "source": [
    "# Get Date Frame \n",
    "date_df = df5\n",
    "# Get Mask\n",
    "pubs = df5[['published','start_date','end_date']]\n",
    "in1 = np.array([1 if (type(pubs.start_date[i]) == str) else 0 for i in range(len(pubs.start_date))])\n",
    "out1 = np.array([1 if (type(pubs.end_date[i]) == str) else 0 for i in range(len(pubs.end_date))])\n",
    "useable = np.array((pubs['published']==0) & (in1) & (out1))\n",
    "pub_useable = np.array((pubs['published']==1) & (in1) & (~out1))\n",
    "not_date_df = date_df[pub_useable]\n",
    "# Throw away current programs\n",
    "date_df = date_df[useable]\n",
    "dt_start = [datetime.fromisoformat(i) for i in date_df.start_date]\n",
    "dt_end = [datetime.fromisoformat(i) for i in date_df.end_date]\n",
    "dt_dlt = [dt_end[i] - dt_start[i] for i in range(len(dt_start))] \n",
    "months = [dt_dlt[i].total_seconds()/2.628e6 for i in range(len(dt_dlt))]"
   ]
  },
  {
   "cell_type": "code",
   "execution_count": 508,
   "metadata": {},
   "outputs": [],
   "source": [
    "date_df['months'] = months\n",
    "date_df.drop(columns = ['start_date', 'end_date'], inplace = True)"
   ]
  },
  {
   "cell_type": "code",
   "execution_count": 510,
   "metadata": {},
   "outputs": [],
   "source": [
    "date_df.to_csv('date_df.csv')"
   ]
  },
  {
   "cell_type": "code",
   "execution_count": null,
   "metadata": {},
   "outputs": [],
   "source": []
  },
  {
   "cell_type": "code",
   "execution_count": null,
   "metadata": {},
   "outputs": [],
   "source": []
  },
  {
   "cell_type": "code",
   "execution_count": null,
   "metadata": {},
   "outputs": [],
   "source": []
  },
  {
   "cell_type": "code",
   "execution_count": null,
   "metadata": {},
   "outputs": [],
   "source": []
  },
  {
   "cell_type": "code",
   "execution_count": 425,
   "metadata": {},
   "outputs": [
    {
     "data": {
      "text/plain": [
       "Index(['active', 'name_tech', 'name_energy', 'name_subtech', 'is_entire_state',\n",
       "       'implementing_sector_id', 'name_program', 'published', 'budget',\n",
       "       'start_date', 'start_date_text', 'end_date', 'end_date_text',\n",
       "       'is_territory', 'state', 'name_type', 'name_category', 'id',\n",
       "       'name_sector'],\n",
       "      dtype='object')"
      ]
     },
     "execution_count": 425,
     "metadata": {},
     "output_type": "execute_result"
    }
   ],
   "source": [
    "df5.columns"
   ]
  },
  {
   "cell_type": "code",
   "execution_count": 429,
   "metadata": {},
   "outputs": [],
   "source": [
    "budget = df5[['budget']]"
   ]
  },
  {
   "cell_type": "code",
   "execution_count": 446,
   "metadata": {},
   "outputs": [],
   "source": [
    "bud = np.array([True if (type(budget.budget[i]) == str) else False for i in range(len(budget.budget))])"
   ]
  },
  {
   "cell_type": "code",
   "execution_count": 447,
   "metadata": {},
   "outputs": [
    {
     "data": {
      "text/plain": [
       "448"
      ]
     },
     "execution_count": 447,
     "metadata": {},
     "output_type": "execute_result"
    }
   ],
   "source": [
    "sum(bud & pub_useable)"
   ]
  },
  {
   "cell_type": "code",
   "execution_count": 455,
   "metadata": {},
   "outputs": [],
   "source": [
    "dt = pubs.iloc[10003][1]"
   ]
  },
  {
   "cell_type": "code",
   "execution_count": 461,
   "metadata": {},
   "outputs": [
    {
     "data": {
      "text/plain": [
       "datetime.datetime(2015, 1, 26, 20, 4)"
      ]
     },
     "execution_count": 461,
     "metadata": {},
     "output_type": "execute_result"
    }
   ],
   "source": [
    "datetime.fromisoformat(dt)"
   ]
  },
  {
   "cell_type": "code",
   "execution_count": 450,
   "metadata": {},
   "outputs": [
    {
     "data": {
      "text/html": [
       "<div>\n",
       "<style scoped>\n",
       "    .dataframe tbody tr th:only-of-type {\n",
       "        vertical-align: middle;\n",
       "    }\n",
       "\n",
       "    .dataframe tbody tr th {\n",
       "        vertical-align: top;\n",
       "    }\n",
       "\n",
       "    .dataframe thead th {\n",
       "        text-align: right;\n",
       "    }\n",
       "</style>\n",
       "<table border=\"1\" class=\"dataframe\">\n",
       "  <thead>\n",
       "    <tr style=\"text-align: right;\">\n",
       "      <th></th>\n",
       "      <th>budget</th>\n",
       "    </tr>\n",
       "  </thead>\n",
       "  <tbody>\n",
       "    <tr>\n",
       "      <th>1103</th>\n",
       "      <td>$704.4 million (RPS program expenses through 1...</td>\n",
       "    </tr>\n",
       "    <tr>\n",
       "      <th>1104</th>\n",
       "      <td>$704.4 million (RPS program expenses through 1...</td>\n",
       "    </tr>\n",
       "    <tr>\n",
       "      <th>1106</th>\n",
       "      <td>$704.4 million (RPS program expenses through 1...</td>\n",
       "    </tr>\n",
       "    <tr>\n",
       "      <th>1108</th>\n",
       "      <td>$704.4 million (RPS program expenses through 1...</td>\n",
       "    </tr>\n",
       "    <tr>\n",
       "      <th>1110</th>\n",
       "      <td>$704.4 million (RPS program expenses through 1...</td>\n",
       "    </tr>\n",
       "    <tr>\n",
       "      <th>1111</th>\n",
       "      <td>$704.4 million (RPS program expenses through 1...</td>\n",
       "    </tr>\n",
       "    <tr>\n",
       "      <th>1112</th>\n",
       "      <td>$704.4 million (RPS program expenses through 1...</td>\n",
       "    </tr>\n",
       "    <tr>\n",
       "      <th>1114</th>\n",
       "      <td>$704.4 million (RPS program expenses through 1...</td>\n",
       "    </tr>\n",
       "    <tr>\n",
       "      <th>1115</th>\n",
       "      <td>$704.4 million (RPS program expenses through 1...</td>\n",
       "    </tr>\n",
       "    <tr>\n",
       "      <th>1117</th>\n",
       "      <td>$704.4 million (RPS program expenses through 1...</td>\n",
       "    </tr>\n",
       "    <tr>\n",
       "      <th>1118</th>\n",
       "      <td>$704.4 million (RPS program expenses through 1...</td>\n",
       "    </tr>\n",
       "    <tr>\n",
       "      <th>1119</th>\n",
       "      <td>$704.4 million (RPS program expenses through 1...</td>\n",
       "    </tr>\n",
       "    <tr>\n",
       "      <th>1121</th>\n",
       "      <td>$704.4 million (RPS program expenses through 1...</td>\n",
       "    </tr>\n",
       "    <tr>\n",
       "      <th>1123</th>\n",
       "      <td>$704.4 million (RPS program expenses through 1...</td>\n",
       "    </tr>\n",
       "    <tr>\n",
       "      <th>3015</th>\n",
       "      <td>$5.322 billion (2016- 2025)</td>\n",
       "    </tr>\n",
       "    <tr>\n",
       "      <th>3016</th>\n",
       "      <td>$5.322 billion (2016- 2025)</td>\n",
       "    </tr>\n",
       "    <tr>\n",
       "      <th>3017</th>\n",
       "      <td>$5.322 billion (2016- 2025)</td>\n",
       "    </tr>\n",
       "    <tr>\n",
       "      <th>3018</th>\n",
       "      <td>$5.322 billion (2016- 2025)</td>\n",
       "    </tr>\n",
       "    <tr>\n",
       "      <th>3019</th>\n",
       "      <td>$5.322 billion (2016- 2025)</td>\n",
       "    </tr>\n",
       "    <tr>\n",
       "      <th>3020</th>\n",
       "      <td>$5.322 billion (2016- 2025)</td>\n",
       "    </tr>\n",
       "    <tr>\n",
       "      <th>3021</th>\n",
       "      <td>$5.322 billion (2016- 2025)</td>\n",
       "    </tr>\n",
       "    <tr>\n",
       "      <th>3022</th>\n",
       "      <td>$5.322 billion (2016- 2025)</td>\n",
       "    </tr>\n",
       "    <tr>\n",
       "      <th>3023</th>\n",
       "      <td>$5.322 billion (2016- 2025)</td>\n",
       "    </tr>\n",
       "    <tr>\n",
       "      <th>3024</th>\n",
       "      <td>$5.322 billion (2016- 2025)</td>\n",
       "    </tr>\n",
       "    <tr>\n",
       "      <th>3025</th>\n",
       "      <td>$5.322 billion (2016- 2025)</td>\n",
       "    </tr>\n",
       "    <tr>\n",
       "      <th>3026</th>\n",
       "      <td>$5.322 billion (2016- 2025)</td>\n",
       "    </tr>\n",
       "    <tr>\n",
       "      <th>3027</th>\n",
       "      <td>$5.322 billion (2016- 2025)</td>\n",
       "    </tr>\n",
       "    <tr>\n",
       "      <th>3028</th>\n",
       "      <td>$5.322 billion (2016- 2025)</td>\n",
       "    </tr>\n",
       "    <tr>\n",
       "      <th>3029</th>\n",
       "      <td>$5.322 billion (2016- 2025)</td>\n",
       "    </tr>\n",
       "    <tr>\n",
       "      <th>3030</th>\n",
       "      <td>$5.322 billion (2016- 2025)</td>\n",
       "    </tr>\n",
       "    <tr>\n",
       "      <th>...</th>\n",
       "      <td>...</td>\n",
       "    </tr>\n",
       "    <tr>\n",
       "      <th>32955</th>\n",
       "      <td>2013: $150 million ($2.3 billion total)</td>\n",
       "    </tr>\n",
       "    <tr>\n",
       "      <th>32956</th>\n",
       "      <td>2013: $150 million ($2.3 billion total)</td>\n",
       "    </tr>\n",
       "    <tr>\n",
       "      <th>32957</th>\n",
       "      <td>2013: $150 million ($2.3 billion total)</td>\n",
       "    </tr>\n",
       "    <tr>\n",
       "      <th>32958</th>\n",
       "      <td>2013: $150 million ($2.3 billion total)</td>\n",
       "    </tr>\n",
       "    <tr>\n",
       "      <th>32960</th>\n",
       "      <td>2013: $150 million ($2.3 billion total)</td>\n",
       "    </tr>\n",
       "    <tr>\n",
       "      <th>32962</th>\n",
       "      <td>2013: $150 million ($2.3 billion total)</td>\n",
       "    </tr>\n",
       "    <tr>\n",
       "      <th>32964</th>\n",
       "      <td>2013: $150 million ($2.3 billion total)</td>\n",
       "    </tr>\n",
       "    <tr>\n",
       "      <th>32965</th>\n",
       "      <td>2013: $150 million ($2.3 billion total)</td>\n",
       "    </tr>\n",
       "    <tr>\n",
       "      <th>32966</th>\n",
       "      <td>2013: $150 million ($2.3 billion total)</td>\n",
       "    </tr>\n",
       "    <tr>\n",
       "      <th>32967</th>\n",
       "      <td>2013: $150 million ($2.3 billion total)</td>\n",
       "    </tr>\n",
       "    <tr>\n",
       "      <th>32968</th>\n",
       "      <td>2013: $150 million ($2.3 billion total)</td>\n",
       "    </tr>\n",
       "    <tr>\n",
       "      <th>32969</th>\n",
       "      <td>2013: $150 million ($2.3 billion total)</td>\n",
       "    </tr>\n",
       "    <tr>\n",
       "      <th>32970</th>\n",
       "      <td>2013: $150 million ($2.3 billion total)</td>\n",
       "    </tr>\n",
       "    <tr>\n",
       "      <th>32971</th>\n",
       "      <td>2013: $150 million ($2.3 billion total)</td>\n",
       "    </tr>\n",
       "    <tr>\n",
       "      <th>32972</th>\n",
       "      <td>2013: $150 million ($2.3 billion total)</td>\n",
       "    </tr>\n",
       "    <tr>\n",
       "      <th>32973</th>\n",
       "      <td>2013: $150 million ($2.3 billion total)</td>\n",
       "    </tr>\n",
       "    <tr>\n",
       "      <th>32974</th>\n",
       "      <td>2013: $150 million ($2.3 billion total)</td>\n",
       "    </tr>\n",
       "    <tr>\n",
       "      <th>32975</th>\n",
       "      <td>2013: $150 million ($2.3 billion total)</td>\n",
       "    </tr>\n",
       "    <tr>\n",
       "      <th>32976</th>\n",
       "      <td>2013: $150 million ($2.3 billion total)</td>\n",
       "    </tr>\n",
       "    <tr>\n",
       "      <th>32977</th>\n",
       "      <td>2013: $150 million ($2.3 billion total)</td>\n",
       "    </tr>\n",
       "    <tr>\n",
       "      <th>32978</th>\n",
       "      <td>2013: $150 million ($2.3 billion total)</td>\n",
       "    </tr>\n",
       "    <tr>\n",
       "      <th>32979</th>\n",
       "      <td>2013: $150 million ($2.3 billion total)</td>\n",
       "    </tr>\n",
       "    <tr>\n",
       "      <th>32980</th>\n",
       "      <td>2013: $150 million ($2.3 billion total)</td>\n",
       "    </tr>\n",
       "    <tr>\n",
       "      <th>32981</th>\n",
       "      <td>2013: $150 million ($2.3 billion total)</td>\n",
       "    </tr>\n",
       "    <tr>\n",
       "      <th>32982</th>\n",
       "      <td>2013: $150 million ($2.3 billion total)</td>\n",
       "    </tr>\n",
       "    <tr>\n",
       "      <th>32983</th>\n",
       "      <td>2013: $150 million ($2.3 billion total)</td>\n",
       "    </tr>\n",
       "    <tr>\n",
       "      <th>32984</th>\n",
       "      <td>2013: $150 million ($2.3 billion total)</td>\n",
       "    </tr>\n",
       "    <tr>\n",
       "      <th>32985</th>\n",
       "      <td>2013: $150 million ($2.3 billion total)</td>\n",
       "    </tr>\n",
       "    <tr>\n",
       "      <th>32986</th>\n",
       "      <td>2013: $150 million ($2.3 billion total)</td>\n",
       "    </tr>\n",
       "    <tr>\n",
       "      <th>32987</th>\n",
       "      <td>2013: $150 million ($2.3 billion total)</td>\n",
       "    </tr>\n",
       "  </tbody>\n",
       "</table>\n",
       "<p>2959 rows × 1 columns</p>\n",
       "</div>"
      ],
      "text/plain": [
       "                                                  budget\n",
       "1103   $704.4 million (RPS program expenses through 1...\n",
       "1104   $704.4 million (RPS program expenses through 1...\n",
       "1106   $704.4 million (RPS program expenses through 1...\n",
       "1108   $704.4 million (RPS program expenses through 1...\n",
       "1110   $704.4 million (RPS program expenses through 1...\n",
       "1111   $704.4 million (RPS program expenses through 1...\n",
       "1112   $704.4 million (RPS program expenses through 1...\n",
       "1114   $704.4 million (RPS program expenses through 1...\n",
       "1115   $704.4 million (RPS program expenses through 1...\n",
       "1117   $704.4 million (RPS program expenses through 1...\n",
       "1118   $704.4 million (RPS program expenses through 1...\n",
       "1119   $704.4 million (RPS program expenses through 1...\n",
       "1121   $704.4 million (RPS program expenses through 1...\n",
       "1123   $704.4 million (RPS program expenses through 1...\n",
       "3015                         $5.322 billion (2016- 2025)\n",
       "3016                         $5.322 billion (2016- 2025)\n",
       "3017                         $5.322 billion (2016- 2025)\n",
       "3018                         $5.322 billion (2016- 2025)\n",
       "3019                         $5.322 billion (2016- 2025)\n",
       "3020                         $5.322 billion (2016- 2025)\n",
       "3021                         $5.322 billion (2016- 2025)\n",
       "3022                         $5.322 billion (2016- 2025)\n",
       "3023                         $5.322 billion (2016- 2025)\n",
       "3024                         $5.322 billion (2016- 2025)\n",
       "3025                         $5.322 billion (2016- 2025)\n",
       "3026                         $5.322 billion (2016- 2025)\n",
       "3027                         $5.322 billion (2016- 2025)\n",
       "3028                         $5.322 billion (2016- 2025)\n",
       "3029                         $5.322 billion (2016- 2025)\n",
       "3030                         $5.322 billion (2016- 2025)\n",
       "...                                                  ...\n",
       "32955            2013: $150 million ($2.3 billion total)\n",
       "32956            2013: $150 million ($2.3 billion total)\n",
       "32957            2013: $150 million ($2.3 billion total)\n",
       "32958            2013: $150 million ($2.3 billion total)\n",
       "32960            2013: $150 million ($2.3 billion total)\n",
       "32962            2013: $150 million ($2.3 billion total)\n",
       "32964            2013: $150 million ($2.3 billion total)\n",
       "32965            2013: $150 million ($2.3 billion total)\n",
       "32966            2013: $150 million ($2.3 billion total)\n",
       "32967            2013: $150 million ($2.3 billion total)\n",
       "32968            2013: $150 million ($2.3 billion total)\n",
       "32969            2013: $150 million ($2.3 billion total)\n",
       "32970            2013: $150 million ($2.3 billion total)\n",
       "32971            2013: $150 million ($2.3 billion total)\n",
       "32972            2013: $150 million ($2.3 billion total)\n",
       "32973            2013: $150 million ($2.3 billion total)\n",
       "32974            2013: $150 million ($2.3 billion total)\n",
       "32975            2013: $150 million ($2.3 billion total)\n",
       "32976            2013: $150 million ($2.3 billion total)\n",
       "32977            2013: $150 million ($2.3 billion total)\n",
       "32978            2013: $150 million ($2.3 billion total)\n",
       "32979            2013: $150 million ($2.3 billion total)\n",
       "32980            2013: $150 million ($2.3 billion total)\n",
       "32981            2013: $150 million ($2.3 billion total)\n",
       "32982            2013: $150 million ($2.3 billion total)\n",
       "32983            2013: $150 million ($2.3 billion total)\n",
       "32984            2013: $150 million ($2.3 billion total)\n",
       "32985            2013: $150 million ($2.3 billion total)\n",
       "32986            2013: $150 million ($2.3 billion total)\n",
       "32987            2013: $150 million ($2.3 billion total)\n",
       "\n",
       "[2959 rows x 1 columns]"
      ]
     },
     "execution_count": 450,
     "metadata": {},
     "output_type": "execute_result"
    }
   ],
   "source": [
    "budget[bud]"
   ]
  },
  {
   "cell_type": "code",
   "execution_count": null,
   "metadata": {},
   "outputs": [],
   "source": []
  },
  {
   "cell_type": "code",
   "execution_count": null,
   "metadata": {},
   "outputs": [],
   "source": []
  },
  {
   "cell_type": "code",
   "execution_count": null,
   "metadata": {},
   "outputs": [],
   "source": []
  },
  {
   "cell_type": "code",
   "execution_count": null,
   "metadata": {},
   "outputs": [],
   "source": []
  },
  {
   "cell_type": "code",
   "execution_count": 111,
   "metadata": {},
   "outputs": [],
   "source": []
  },
  {
   "cell_type": "code",
   "execution_count": null,
   "metadata": {},
   "outputs": [],
   "source": []
  }
 ],
 "metadata": {
  "kernelspec": {
   "display_name": "Python 3",
   "language": "python",
   "name": "python3"
  },
  "language_info": {
   "codemirror_mode": {
    "name": "ipython",
    "version": 3
   },
   "file_extension": ".py",
   "mimetype": "text/x-python",
   "name": "python",
   "nbconvert_exporter": "python",
   "pygments_lexer": "ipython3",
   "version": "3.7.1"
  }
 },
 "nbformat": 4,
 "nbformat_minor": 2
}
